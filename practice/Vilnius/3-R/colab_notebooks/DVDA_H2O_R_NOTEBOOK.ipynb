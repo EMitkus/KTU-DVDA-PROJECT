{
  "nbformat": 4,
  "nbformat_minor": 0,
  "metadata": {
    "colab": {
      "provenance": []
    },
    "kernelspec": {
      "name": "ir",
      "display_name": "R"
    },
    "language_info": {
      "name": "R"
    }
  },
  "cells": [
    {
      "cell_type": "code",
      "execution_count": 1,
      "metadata": {
        "colab": {
          "base_uri": "https://localhost:8080/"
        },
        "id": "zsjxL2kd54HO",
        "outputId": "c4a8c5dd-8fe0-472f-f322-70a97b9e8ac4"
      },
      "outputs": [
        {
          "output_type": "stream",
          "name": "stderr",
          "text": [
            "Installing package into ‘/usr/local/lib/R/site-library’\n",
            "(as ‘lib’ is unspecified)\n",
            "\n",
            "also installing the dependencies ‘bitops’, ‘RCurl’\n",
            "\n",
            "\n"
          ]
        }
      ],
      "source": [
        "install.packages('h2o')"
      ]
    },
    {
      "cell_type": "code",
      "source": [
        "library(h2o)"
      ],
      "metadata": {
        "id": "Z9RwlPSZ6XaB",
        "colab": {
          "base_uri": "https://localhost:8080/"
        },
        "outputId": "63742979-b6ef-44a6-9c2a-70e4a65e806d"
      },
      "execution_count": 2,
      "outputs": [
        {
          "output_type": "stream",
          "name": "stderr",
          "text": [
            "\n",
            "----------------------------------------------------------------------\n",
            "\n",
            "Your next step is to start H2O:\n",
            "    > h2o.init()\n",
            "\n",
            "For H2O package documentation, ask for help:\n",
            "    > ??h2o\n",
            "\n",
            "After starting H2O, you can use the Web UI at http://localhost:54321\n",
            "For more information visit https://docs.h2o.ai\n",
            "\n",
            "----------------------------------------------------------------------\n",
            "\n",
            "\n",
            "\n",
            "Attaching package: ‘h2o’\n",
            "\n",
            "\n",
            "The following objects are masked from ‘package:stats’:\n",
            "\n",
            "    cor, sd, var\n",
            "\n",
            "\n",
            "The following objects are masked from ‘package:base’:\n",
            "\n",
            "    &&, %*%, %in%, ||, apply, as.factor, as.numeric, colnames,\n",
            "    colnames<-, ifelse, is.character, is.factor, is.numeric, log,\n",
            "    log10, log1p, log2, round, signif, trunc\n",
            "\n",
            "\n"
          ]
        }
      ]
    },
    {
      "cell_type": "code",
      "source": [
        "h2o.init()"
      ],
      "metadata": {
        "colab": {
          "base_uri": "https://localhost:8080/"
        },
        "id": "gcCM2lhx6cEf",
        "outputId": "dacd5763-5c2e-4c6b-901c-1f58f94bd52a"
      },
      "execution_count": 3,
      "outputs": [
        {
          "output_type": "stream",
          "name": "stdout",
          "text": [
            "\n",
            "H2O is not running yet, starting it now...\n",
            "\n",
            "Note:  In case of errors look at the following log files:\n",
            "    /tmp/RtmpjVBCvE/file1f672554449/h2o_UnknownUser_started_from_r.out\n",
            "    /tmp/RtmpjVBCvE/file1f627f67143/h2o_UnknownUser_started_from_r.err\n",
            "\n",
            "\n",
            "Starting H2O JVM and connecting: ..... Connection successful!\n",
            "\n",
            "R is connected to the H2O cluster: \n",
            "    H2O cluster uptime:         3 seconds 16 milliseconds \n",
            "    H2O cluster timezone:       Etc/UTC \n",
            "    H2O data parsing timezone:  UTC \n",
            "    H2O cluster version:        3.42.0.2 \n",
            "    H2O cluster version age:    3 months and 23 days \n",
            "    H2O cluster name:           H2O_started_from_R_root_asx505 \n",
            "    H2O cluster total nodes:    1 \n",
            "    H2O cluster total memory:   3.17 GB \n",
            "    H2O cluster total cores:    2 \n",
            "    H2O cluster allowed cores:  2 \n",
            "    H2O cluster healthy:        TRUE \n",
            "    H2O Connection ip:          localhost \n",
            "    H2O Connection port:        54321 \n",
            "    H2O Connection proxy:       NA \n",
            "    H2O Internal Security:      FALSE \n",
            "    R Version:                  R version 4.3.2 (2023-10-31) \n"
          ]
        },
        {
          "output_type": "stream",
          "name": "stderr",
          "text": [
            "Warning message in h2o.clusterInfo():\n",
            "“\n",
            "Your H2O cluster version is (3 months and 23 days) old. There may be a newer version available.\n",
            "Please download and install the latest version from: https://h2o-release.s3.amazonaws.com/h2o/latest_stable.html”\n"
          ]
        },
        {
          "output_type": "stream",
          "name": "stdout",
          "text": [
            "\n"
          ]
        }
      ]
    },
    {
      "cell_type": "code",
      "source": [
        "df <- h2o.importFile(\"https://drive.google.com/u/0/uc?id=14XVqtU6y7hs9LvrX5dyPSp5KCBix2PuX&export=download\")"
      ],
      "metadata": {
        "colab": {
          "base_uri": "https://localhost:8080/"
        },
        "id": "Ncsg2fxG6Wgv",
        "outputId": "3b6ed6da-8888-4474-877e-b06808711916"
      },
      "execution_count": 4,
      "outputs": [
        {
          "output_type": "stream",
          "name": "stdout",
          "text": [
            "  |======================================================================| 100%\n"
          ]
        }
      ]
    },
    {
      "cell_type": "code",
      "source": [
        "df\n",
        "class(df)\n",
        "summary(df)"
      ],
      "metadata": {
        "colab": {
          "base_uri": "https://localhost:8080/",
          "height": 763
        },
        "id": "bb_VCaBJ6mdw",
        "outputId": "20e9c097-cfea-428e-9feb-e84dd8a5e2ca"
      },
      "execution_count": 5,
      "outputs": [
        {
          "output_type": "display_data",
          "data": {
            "text/plain": [
              "  id y amount_current_loan  term credit_score       loan_purpose yearly_income\n",
              "1  1 0              386342 short    very_good              other       1371971\n",
              "2  2 0              429000 short         good debt_consolidation        823042\n",
              "3  3 0              344608 short         good debt_consolidation       1316567\n",
              "4  4 0               71214 short           NA debt_consolidation           NaN\n",
              "5  5 0              654126 short         good debt_consolidation       1242847\n",
              "6  6 0              133034 short         good debt_consolidation        651035\n",
              "  home_ownership bankruptcies\n",
              "1           rent            0\n",
              "2       mortgage            0\n",
              "3           rent            0\n",
              "4           rent            0\n",
              "5           rent            0\n",
              "6           rent            0\n",
              "\n",
              "[1000000 rows x 9 columns] "
            ]
          },
          "metadata": {}
        },
        {
          "output_type": "display_data",
          "data": {
            "text/html": [
              "'H2OFrame'"
            ],
            "text/markdown": "'H2OFrame'",
            "text/latex": "'H2OFrame'",
            "text/plain": [
              "[1] \"H2OFrame\""
            ]
          },
          "metadata": {}
        },
        {
          "output_type": "stream",
          "name": "stderr",
          "text": [
            "Warning message in summary.H2OFrame(df):\n",
            "“Approximated quantiles computed! If you are interested in exact quantiles, please pass the `exact_quantiles=TRUE` parameter.”\n"
          ]
        },
        {
          "output_type": "display_data",
          "data": {
            "text/plain": [
              " id                y             amount_current_loan term         \n",
              " Min.   :      1   Min.   :0.0   Min.   : 10802      short:685222 \n",
              " 1st Qu.: 249751   1st Qu.:0.0   1st Qu.:174276      long :314778 \n",
              " Median : 499501   Median :0.5   Median :269247                   \n",
              " Mean   : 500000   Mean   :0.5   Mean   :316659                   \n",
              " 3rd Qu.: 749251   3rd Qu.:1.0   3rd Qu.:435057                   \n",
              " Max.   :1000000   Max.   :1.0   Max.   :789250                   \n",
              "                                                                  \n",
              " credit_score      loan_purpose               yearly_income      \n",
              " good     :493169  debt_consolidation:785428  Min.   :    76627  \n",
              " very_good:132719  other             : 91481  1st Qu.:   738550  \n",
              " fair     : 59779  home_improvements : 57517  Median :  1069512  \n",
              " NA       :314333  business_loan     : 17756  Mean   :  1344805  \n",
              "                   buy_a_car         : 11855  3rd Qu.:  1565954  \n",
              "                   medical_bills     : 11521  Max.   :165557393  \n",
              "                                              NA's   :219439     \n",
              " home_ownership   bankruptcies    \n",
              " mortgage:472464  Min.   :0.0000  \n",
              " rent    :435450  1st Qu.:0.0000  \n",
              " own     : 92086  Median :0.0000  \n",
              "                  Mean   :0.1192  \n",
              "                  3rd Qu.:0.0000  \n",
              "                  Max.   :7.0000  \n",
              "                  NA's   :1805    "
            ]
          },
          "metadata": {}
        }
      ]
    },
    {
      "cell_type": "code",
      "source": [
        "y <- \"y\"\n",
        "x <- setdiff(names(df), c(y, \"id\"))\n",
        "df$y <- as.factor(df$y)\n",
        "summary(df)"
      ],
      "metadata": {
        "colab": {
          "base_uri": "https://localhost:8080/",
          "height": 468
        },
        "id": "btQaQgIZ6uRB",
        "outputId": "432d68e0-97e7-44f0-961b-8d3ac199c182"
      },
      "execution_count": 6,
      "outputs": [
        {
          "output_type": "stream",
          "name": "stderr",
          "text": [
            "Warning message in summary.H2OFrame(df):\n",
            "“Approximated quantiles computed! If you are interested in exact quantiles, please pass the `exact_quantiles=TRUE` parameter.”\n"
          ]
        },
        {
          "output_type": "display_data",
          "data": {
            "text/plain": [
              " id                y        amount_current_loan term          credit_score     \n",
              " Min.   :      1   0:5e+05  Min.   : 10802      short:685222  good     :493169 \n",
              " 1st Qu.: 249751   1:5e+05  1st Qu.:174276      long :314778  very_good:132719 \n",
              " Median : 499501            Median :269247                    fair     : 59779 \n",
              " Mean   : 500000            Mean   :316659                    NA       :314333 \n",
              " 3rd Qu.: 749251            3rd Qu.:435057                                     \n",
              " Max.   :1000000            Max.   :789250                                     \n",
              "                                                                               \n",
              " loan_purpose               yearly_income       home_ownership  \n",
              " debt_consolidation:785428  Min.   :    76627   mortgage:472464 \n",
              " other             : 91481  1st Qu.:   738550   rent    :435450 \n",
              " home_improvements : 57517  Median :  1069512   own     : 92086 \n",
              " business_loan     : 17756  Mean   :  1344805                   \n",
              " buy_a_car         : 11855  3rd Qu.:  1565954                   \n",
              " medical_bills     : 11521  Max.   :165557393                   \n",
              "                            NA's   :219439                      \n",
              " bankruptcies    \n",
              " Min.   :0.0000  \n",
              " 1st Qu.:0.0000  \n",
              " Median :0.0000  \n",
              " Mean   :0.1192  \n",
              " 3rd Qu.:0.0000  \n",
              " Max.   :7.0000  \n",
              " NA's   :1805    "
            ]
          },
          "metadata": {}
        }
      ]
    },
    {
      "cell_type": "code",
      "source": [
        "splits <- h2o.splitFrame(df, c(0.6,0.2), seed=123)\n",
        "train  <- h2o.assign(splits[[1]], \"train\") # 60%\n",
        "valid  <- h2o.assign(splits[[2]], \"valid\") # 20%\n",
        "test   <- h2o.assign(splits[[3]], \"test\")  # 20%"
      ],
      "metadata": {
        "id": "8WLMKyvl6xvY"
      },
      "execution_count": 7,
      "outputs": []
    },
    {
      "cell_type": "code",
      "source": [
        "aml <- h2o.automl(x = x,\n",
        "                  y = y,\n",
        "                  training_frame = train,\n",
        "                  validation_frame = valid,\n",
        "                  max_runtime_secs = 60)"
      ],
      "metadata": {
        "colab": {
          "base_uri": "https://localhost:8080/"
        },
        "id": "R4pILLLz61SY",
        "outputId": "d31f3b0a-0026-44f8-b948-22f81cfb13d1"
      },
      "execution_count": 8,
      "outputs": [
        {
          "output_type": "stream",
          "name": "stdout",
          "text": [
            "  |======================================================================| 100%\n"
          ]
        }
      ]
    },
    {
      "cell_type": "code",
      "source": [
        "aml@leaderboard\n",
        "model <- aml@leader"
      ],
      "metadata": {
        "colab": {
          "base_uri": "https://localhost:8080/",
          "height": 225
        },
        "id": "UvEnxYDq630R",
        "outputId": "10fa29ef-8a3b-4782-cb5a-ba0c1f8dac87"
      },
      "execution_count": 9,
      "outputs": [
        {
          "output_type": "display_data",
          "data": {
            "text/plain": [
              "                                                 model_id       auc   logloss\n",
              "1                          GBM_1_AutoML_1_20231117_161435 0.7073099 0.6201751\n",
              "2                      XGBoost_1_AutoML_1_20231117_161435 0.7059623 0.5992885\n",
              "3 StackedEnsemble_BestOfFamily_1_AutoML_1_20231117_161435 0.7059279 0.6094852\n",
              "4                          GLM_1_AutoML_1_20231117_161435 0.6651450 0.6511914\n",
              "      aucpr mean_per_class_error      rmse       mse\n",
              "1 0.7460705            0.4189173 0.4649858 0.2162118\n",
              "2 0.7449283            0.4283320 0.4594473 0.2110918\n",
              "3 0.7448400            0.4304820 0.4617235 0.2131886\n",
              "4 0.6633261            0.4333185 0.4788349 0.2292829\n",
              "\n",
              "[4 rows x 7 columns] "
            ]
          },
          "metadata": {}
        }
      ]
    },
    {
      "cell_type": "code",
      "source": [
        "h2o.performance(model, train = TRUE)"
      ],
      "metadata": {
        "colab": {
          "base_uri": "https://localhost:8080/",
          "height": 711
        },
        "id": "s_9JaToJ7P6p",
        "outputId": "cf4120de-2386-4618-dc71-0f5bb3ed6f4f"
      },
      "execution_count": 10,
      "outputs": [
        {
          "output_type": "display_data",
          "data": {
            "text/plain": [
              "H2OBinomialMetrics: gbm\n",
              "** Reported on training data. **\n",
              "\n",
              "MSE:  0.2135693\n",
              "RMSE:  0.4621356\n",
              "LogLoss:  0.6146866\n",
              "Mean Per-Class Error:  0.4033733\n",
              "AUC:  0.7232143\n",
              "AUCPR:  0.7572401\n",
              "Gini:  0.4464286\n",
              "R^2:  0.1457216\n",
              "\n",
              "Confusion Matrix (vertical: actual; across: predicted) for F1-optimal threshold:\n",
              "           0      1    Error            Rate\n",
              "0      71640 168616 0.701818  =168616/240256\n",
              "1      25152 214554 0.104929   =25152/239706\n",
              "Totals 96792 383170 0.403715  =193768/479962\n",
              "\n",
              "Maximum Metrics: Maximum metrics at their respective thresholds\n",
              "                        metric threshold         value idx\n",
              "1                       max f1  0.400007      0.688914 300\n",
              "2                       max f2  0.301764      0.834038 373\n",
              "3                 max f0point5  0.515632      0.665296 184\n",
              "4                 max accuracy  0.515632      0.655616 184\n",
              "5                max precision  0.858564      1.000000   0\n",
              "6                   max recall  0.240003      1.000000 398\n",
              "7              max specificity  0.858564      1.000000   0\n",
              "8             max absolute_mcc  0.601271      0.338508 110\n",
              "9   max min_per_class_accuracy  0.483569      0.650494 218\n",
              "10 max mean_per_class_accuracy  0.515632      0.655437 184\n",
              "11                     max tns  0.858564 240256.000000   0\n",
              "12                     max fns  0.858564 239681.000000   0\n",
              "13                     max fps  0.234203 240256.000000 399\n",
              "14                     max tps  0.240003 239706.000000 398\n",
              "15                     max tnr  0.858564      1.000000   0\n",
              "16                     max fnr  0.858564      0.999896   0\n",
              "17                     max fpr  0.234203      1.000000 399\n",
              "18                     max tpr  0.240003      1.000000 398\n",
              "\n",
              "Gains/Lift Table: Extract with `h2o.gainsLift(<model>, <data>)` or `h2o.gainsLift(<model>, valid=<T/F>, xval=<T/F>)`"
            ]
          },
          "metadata": {}
        }
      ]
    },
    {
      "cell_type": "code",
      "source": [
        "h2o.performance(model, valid = TRUE)"
      ],
      "metadata": {
        "colab": {
          "base_uri": "https://localhost:8080/",
          "height": 711
        },
        "id": "JMNkiYfZ7Q2R",
        "outputId": "48383a6f-6f23-49c6-d43d-46a1ccea2179"
      },
      "execution_count": null,
      "outputs": [
        {
          "output_type": "display_data",
          "data": {
            "text/plain": [
              "H2OBinomialMetrics: xgboost\n",
              "** Reported on validation data. **\n",
              "\n",
              "MSE:  0.2106613\n",
              "RMSE:  0.4589785\n",
              "LogLoss:  0.5977241\n",
              "Mean Per-Class Error:  0.419191\n",
              "AUC:  0.7071561\n",
              "AUCPR:  0.7462427\n",
              "Gini:  0.4143123\n",
              "R^2:  0.1573509\n",
              "\n",
              "Confusion Matrix (vertical: actual; across: predicted) for F1-optimal threshold:\n",
              "           0      1    Error           Rate\n",
              "0      26494  73279 0.734457   =73279/99773\n",
              "1      10414  89793 0.103925  =10414/100207\n",
              "Totals 36908 163072 0.418507  =83693/199980\n",
              "\n",
              "Maximum Metrics: Maximum metrics at their respective thresholds\n",
              "                        metric threshold         value idx\n",
              "1                       max f1  0.343003      0.682113 293\n",
              "2                       max f2  0.163999      0.834140 385\n",
              "3                 max f0point5  0.534488      0.650325 154\n",
              "4                 max accuracy  0.505165      0.644379 175\n",
              "5                max precision  0.978874      1.000000   0\n",
              "6                   max recall  0.100379      1.000000 398\n",
              "7              max specificity  0.978874      1.000000   0\n",
              "8             max absolute_mcc  0.692223      0.330111  66\n",
              "9   max min_per_class_accuracy  0.463660      0.639826 206\n",
              "10 max mean_per_class_accuracy  0.505165      0.644625 175\n",
              "11                     max tns  0.978874  99773.000000   0\n",
              "12                     max fns  0.978874  99703.000000   0\n",
              "13                     max fps  0.088818  99773.000000 399\n",
              "14                     max tps  0.100379 100207.000000 398\n",
              "15                     max tnr  0.978874      1.000000   0\n",
              "16                     max fnr  0.978874      0.994970   0\n",
              "17                     max fpr  0.088818      1.000000 399\n",
              "18                     max tpr  0.100379      1.000000 398\n",
              "\n",
              "Gains/Lift Table: Extract with `h2o.gainsLift(<model>, <data>)` or `h2o.gainsLift(<model>, valid=<T/F>, xval=<T/F>)`"
            ]
          },
          "metadata": {}
        }
      ]
    },
    {
      "cell_type": "code",
      "source": [
        "perf <- h2o.performance(model, newdata = test)\n",
        "perf"
      ],
      "metadata": {
        "colab": {
          "base_uri": "https://localhost:8080/",
          "height": 694
        },
        "id": "5MaTADXN7K_Z",
        "outputId": "5f268036-ba1d-4d78-b0ec-ccf31735ace6"
      },
      "execution_count": 11,
      "outputs": [
        {
          "output_type": "display_data",
          "data": {
            "text/plain": [
              "H2OBinomialMetrics: gbm\n",
              "\n",
              "MSE:  0.2160452\n",
              "RMSE:  0.4648067\n",
              "LogLoss:  0.6198007\n",
              "Mean Per-Class Error:  0.4175859\n",
              "AUC:  0.7077342\n",
              "AUCPR:  0.7465175\n",
              "Gini:  0.4154684\n",
              "R^2:  0.1358179\n",
              "\n",
              "Confusion Matrix (vertical: actual; across: predicted) for F1-optimal threshold:\n",
              "           0      1    Error           Rate\n",
              "0      26564  73200 0.733732   =73200/99764\n",
              "1      10143  89847 0.101440   =10143/99990\n",
              "Totals 36707 163047 0.417228  =83343/199754\n",
              "\n",
              "Maximum Metrics: Maximum metrics at their respective thresholds\n",
              "                        metric threshold        value idx\n",
              "1                       max f1  0.394346     0.683151 305\n",
              "2                       max f2  0.281071     0.833819 385\n",
              "3                 max f0point5  0.513853     0.653100 185\n",
              "4                 max accuracy  0.513853     0.646310 185\n",
              "5                max precision  0.855585     1.000000   0\n",
              "6                   max recall  0.234874     1.000000 399\n",
              "7              max specificity  0.855585     1.000000   0\n",
              "8             max absolute_mcc  0.608041     0.331316 102\n",
              "9   max min_per_class_accuracy  0.483456     0.640074 218\n",
              "10 max mean_per_class_accuracy  0.513853     0.646470 185\n",
              "11                     max tns  0.855585 99764.000000   0\n",
              "12                     max fns  0.855585 99972.000000   0\n",
              "13                     max fps  0.234874 99764.000000 399\n",
              "14                     max tps  0.234874 99990.000000 399\n",
              "15                     max tnr  0.855585     1.000000   0\n",
              "16                     max fnr  0.855585     0.999820   0\n",
              "17                     max fpr  0.234874     1.000000 399\n",
              "18                     max tpr  0.234874     1.000000 399\n",
              "\n",
              "Gains/Lift Table: Extract with `h2o.gainsLift(<model>, <data>)` or `h2o.gainsLift(<model>, valid=<T/F>, xval=<T/F>)`"
            ]
          },
          "metadata": {}
        }
      ]
    },
    {
      "cell_type": "code",
      "source": [
        "h2o.auc(perf)"
      ],
      "metadata": {
        "id": "x4xKa8WH7Xyq",
        "outputId": "1f6778b7-051b-4028-9ef1-e81e3d1d2a20",
        "colab": {
          "base_uri": "https://localhost:8080/",
          "height": 34
        }
      },
      "execution_count": 12,
      "outputs": [
        {
          "output_type": "display_data",
          "data": {
            "text/html": [
              "0.707734195495649"
            ],
            "text/markdown": "0.707734195495649",
            "text/latex": "0.707734195495649",
            "text/plain": [
              "[1] 0.7077342"
            ]
          },
          "metadata": {}
        }
      ]
    },
    {
      "cell_type": "code",
      "source": [
        "plot(perf, type = \"roc\")"
      ],
      "metadata": {
        "colab": {
          "base_uri": "https://localhost:8080/",
          "height": 437
        },
        "id": "lMTluOd16D3A",
        "outputId": "4c24cbe7-6b94-47c3-eb0c-1ce745e98f64"
      },
      "execution_count": 13,
      "outputs": [
        {
          "output_type": "display_data",
          "data": {
            "text/plain": [
              "Plot with title “Receiver Operating Characteristic curve”"
            ],
            "image/png": "[encoded data removed]"
          },
          "metadata": {
            "image/png": {
              "width": 420,
              "height": 420
            }
          }
        }
      ]
    }
  ]
}